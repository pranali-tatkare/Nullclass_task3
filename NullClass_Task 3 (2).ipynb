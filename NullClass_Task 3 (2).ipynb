{
 "cells": [
  {
   "cell_type": "code",
   "execution_count": null,
   "id": "c35a21e9",
   "metadata": {},
   "outputs": [],
   "source": [
    "# Task 3 : Create a feature to translate the language from French to Tamil and it should\n",
    "#predict if the french word has only five letter if the french word has more than five letters or \n",
    "#less than five letters the model should not translate the word"
   ]
  },
  {
   "cell_type": "code",
   "execution_count": 1,
   "id": "49244ab0",
   "metadata": {},
   "outputs": [
    {
     "name": "stdout",
     "output_type": "stream",
     "text": [
      "Requirement already satisfied: googletrans==4.0.0-rc1 in c:\\users\\hp\\anaconda3\\lib\\site-packages (4.0.0rc1)\n",
      "Requirement already satisfied: httpx==0.13.3 in c:\\users\\hp\\anaconda3\\lib\\site-packages (from googletrans==4.0.0-rc1) (0.13.3)\n",
      "Requirement already satisfied: idna==2.* in c:\\users\\hp\\anaconda3\\lib\\site-packages (from httpx==0.13.3->googletrans==4.0.0-rc1) (2.10)\n",
      "Requirement already satisfied: chardet==3.* in c:\\users\\hp\\anaconda3\\lib\\site-packages (from httpx==0.13.3->googletrans==4.0.0-rc1) (3.0.4)\n",
      "Requirement already satisfied: httpcore==0.9.* in c:\\users\\hp\\anaconda3\\lib\\site-packages (from httpx==0.13.3->googletrans==4.0.0-rc1) (0.9.1)\n",
      "Requirement already satisfied: rfc3986<2,>=1.3 in c:\\users\\hp\\anaconda3\\lib\\site-packages (from httpx==0.13.3->googletrans==4.0.0-rc1) (1.5.0)\n",
      "Requirement already satisfied: sniffio in c:\\users\\hp\\anaconda3\\lib\\site-packages (from httpx==0.13.3->googletrans==4.0.0-rc1) (1.2.0)\n",
      "Requirement already satisfied: certifi in c:\\users\\hp\\anaconda3\\lib\\site-packages (from httpx==0.13.3->googletrans==4.0.0-rc1) (2022.9.14)\n",
      "Requirement already satisfied: hstspreload in c:\\users\\hp\\anaconda3\\lib\\site-packages (from httpx==0.13.3->googletrans==4.0.0-rc1) (2024.4.1)\n",
      "Requirement already satisfied: h2==3.* in c:\\users\\hp\\anaconda3\\lib\\site-packages (from httpcore==0.9.*->httpx==0.13.3->googletrans==4.0.0-rc1) (3.2.0)\n",
      "Requirement already satisfied: h11<0.10,>=0.8 in c:\\users\\hp\\anaconda3\\lib\\site-packages (from httpcore==0.9.*->httpx==0.13.3->googletrans==4.0.0-rc1) (0.9.0)\n",
      "Requirement already satisfied: hpack<4,>=3.0 in c:\\users\\hp\\anaconda3\\lib\\site-packages (from h2==3.*->httpcore==0.9.*->httpx==0.13.3->googletrans==4.0.0-rc1) (3.0.0)\n",
      "Requirement already satisfied: hyperframe<6,>=5.2.0 in c:\\users\\hp\\anaconda3\\lib\\site-packages (from h2==3.*->httpcore==0.9.*->httpx==0.13.3->googletrans==4.0.0-rc1) (5.2.0)\n"
     ]
    }
   ],
   "source": [
    "#library installation\n",
    "!pip install googletrans==4.0.0-rc1"
   ]
  },
  {
   "cell_type": "code",
   "execution_count": 2,
   "id": "90dc2995",
   "metadata": {},
   "outputs": [],
   "source": [
    "#import library\n",
    "from googletrans import Translator\n",
    "import regex as re"
   ]
  },
  {
   "cell_type": "code",
   "execution_count": 3,
   "id": "2f4a18a5",
   "metadata": {},
   "outputs": [],
   "source": [
    "#create function for translation\n",
    "def translate_french_to_tamil(word):\n",
    "    # Check if the word has exactly five letters\n",
    "    if len(word) != 5:\n",
    "        return \"Word should have exactly five letters to translate.\"\n",
    "\n",
    "    # Initialize translator\n",
    "    translator = Translator()\n",
    "\n",
    "    # Translate French word to Tamil\n",
    "    try:\n",
    "        translated_text = translator.translate(word, src='fr', dest='ta').text\n",
    "        return translated_text\n",
    "    except Exception as e:\n",
    "        return str(e)"
   ]
  },
  {
   "cell_type": "code",
   "execution_count": 4,
   "id": "08ec3ce3",
   "metadata": {},
   "outputs": [
    {
     "name": "stdout",
     "output_type": "stream",
     "text": [
      "Enter a French word with exactly five letters: salut\n",
      "Translated word in Tamil: வணக்கம்\n"
     ]
    }
   ],
   "source": [
    "# input statement\n",
    "french_word = input(\"Enter a French word with exactly five letters: \").strip().lower()\n",
    "\n",
    "# Check if the input word has only letters and no whitespace\n",
    "if re.match(r'^[a-z]+$', french_word):\n",
    "    translation = translate_french_to_tamil(french_word)\n",
    "    print(\"Translated word in Tamil:\", translation)\n",
    "else:\n",
    "    print(\"Input should contain only letters.\")"
   ]
  },
  {
   "cell_type": "code",
   "execution_count": null,
   "id": "8876087b",
   "metadata": {},
   "outputs": [],
   "source": [
    "\n",
    "\n"
   ]
  },
  {
   "cell_type": "code",
   "execution_count": 1,
   "id": "5c24f956",
   "metadata": {},
   "outputs": [],
   "source": [
    "#################### python Gui#######################\n",
    "import tkinter as tk\n",
    "from tkinter import messagebox\n",
    "from googletrans import Translator\n",
    "import regex as re\n",
    "\n",
    "# Function to translate French to Tamil\n",
    "def translate_french_to_tamil(word):\n",
    "    # Check if the word has exactly five letters and contains only letters\n",
    "    if len(word) != 5 or not re.match(r'^[a-zA-Z]+$', word):\n",
    "        return \"Word should have exactly five letters and contain only letters.\"\n",
    "\n",
    "    # Initialize translator\n",
    "    translator = Translator()\n",
    "\n",
    "    # Translate French word to Tamil\n",
    "    try:\n",
    "        translated_text = translator.translate(word, src='fr', dest='ta').text\n",
    "        return translated_text\n",
    "    except Exception as e:\n",
    "        return f\"Translation failed: {str(e)}\"\n",
    "\n",
    "# Function to handle the translation when the button is clicked\n",
    "def translate_text():\n",
    "    french_word = input_text.get(\"1.0\", tk.END).strip()\n",
    "    if not french_word:\n",
    "        messagebox.showerror(\"Input Error\", \"Please enter a word to translate.\")\n",
    "        return\n",
    "\n",
    "    translated_sentence = translate_french_to_tamil(french_word)\n",
    "    output_text.config(state=tk.NORMAL)\n",
    "    output_text.delete(\"1.0\", tk.END)\n",
    "    output_text.insert(tk.END, translated_sentence)\n",
    "    output_text.config(state=tk.DISABLED)\n",
    "\n",
    "# Create the main application window\n",
    "root = tk.Tk()\n",
    "root.title(\"French to Tamil Translator\")\n",
    "\n",
    "# Create a text widget for input text\n",
    "input_label = tk.Label(root, text=\"Enter 5-letter French word:\")\n",
    "input_label.pack(pady=10)\n",
    "input_text = tk.Text(root, height=2, width=20)\n",
    "input_text.pack(pady=10)\n",
    "\n",
    "# Create a button to trigger the translation\n",
    "translate_button = tk.Button(root, text=\"Translate\", command=translate_text)\n",
    "translate_button.pack(pady=10)\n",
    "\n",
    "# Create a text widget for output text\n",
    "output_label = tk.Label(root, text=\"Translated Tamil word:\")\n",
    "output_label.pack(pady=10)\n",
    "output_text = tk.Text(root, height=2, width=20, state=tk.DISABLED)\n",
    "output_text.pack(pady=10)\n",
    "\n",
    "# Run the application\n",
    "root.mainloop()\n"
   ]
  },
  {
   "cell_type": "code",
   "execution_count": null,
   "id": "8bc13da6",
   "metadata": {},
   "outputs": [],
   "source": []
  }
 ],
 "metadata": {
  "kernelspec": {
   "display_name": "Python 3 (ipykernel)",
   "language": "python",
   "name": "python3"
  },
  "language_info": {
   "codemirror_mode": {
    "name": "ipython",
    "version": 3
   },
   "file_extension": ".py",
   "mimetype": "text/x-python",
   "name": "python",
   "nbconvert_exporter": "python",
   "pygments_lexer": "ipython3",
   "version": "3.9.13"
  }
 },
 "nbformat": 4,
 "nbformat_minor": 5
}
